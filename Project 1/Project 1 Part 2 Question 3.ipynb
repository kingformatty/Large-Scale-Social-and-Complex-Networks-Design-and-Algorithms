{
 "cells": [
  {
   "cell_type": "markdown",
   "metadata": {},
   "source": [
    "# The PageRank algorithm, as used by the Google search engine, exploits the linkage structure of the web to compute global “importance” scores that can be used to inﬂuence the ranking of search results. Here, we use random walk to simulate PageRank."
   ]
  },
  {
   "cell_type": "code",
   "execution_count": 15,
   "metadata": {},
   "outputs": [],
   "source": [
    "library('igraph')\n",
    "library('Matrix')\n",
    "library('pracma')\n",
    "library('ggpubr')"
   ]
  },
  {
   "cell_type": "markdown",
   "metadata": {},
   "source": [
    "# Question 3.a\n",
    "Create such a network using m = 4. Measure the probability that the walker visits each node. Is this probability related to the degree of the nodes? "
   ]
  },
  {
   "cell_type": "code",
   "execution_count": 16,
   "metadata": {},
   "outputs": [],
   "source": [
    "#create directed random network with 1000 nodes using preferential attachment model\n",
    "# with m=4\n",
    "n=1000\n",
    "g=barabasi.game(n=n,m=4,directed=TRUE)\n",
    "g_org=barabasi.game(n=n,m=4, directed=TRUE)\n",
    "#generate a index list of all nodes\n",
    "vertice_list=seq(1,n)\n",
    "#generate a new index of a permutated vertices id, use sample to shuffle vertices id\n",
    "g_per=permute(g,sample(n))\n",
    "#obtain edge list of original graph, the returned object is a matrix\n",
    "#where each row has two element indicated the start node and end node\n",
    "edge_list=t(as_edgelist(g_per))\n",
    "#combine two graphs together according to edge information\n",
    "g_combine=add_edges(g_org,edge_list)\n"
   ]
  },
  {
   "cell_type": "code",
   "execution_count": 17,
   "metadata": {},
   "outputs": [],
   "source": [
    "#define helper function to extract transition matrix\n",
    "transition_mat=function(g){\n",
    "    vs = V(g)\n",
    "    n = vcount(g)\n",
    "    adj = as_adjacency_matrix(g)\n",
    "    adj[diag(rowSums(adj) == 0)] = 1  # handle if the user is using the function for networks with isolated nodes by creating self-edges\n",
    "    z = matrix(rowSums(adj, , 1))    \n",
    "    transition_matrix = adj / repmat(z, 1, n)  # normalize to get probabilities\n",
    "    \n",
    "    return(transition_matrix)\n",
    "\n",
    "}\n",
    "\n",
    "#define helper function to do random walk task\n",
    "random_walk=function(g,step_max,start_node,transition_matrix=NULL){\n",
    "    if (is.null(transition_matrix)){\n",
    "        transition_matrix=transition_mat(g)\n",
    "    }\n",
    "    v=start_node\n",
    "    end_list=vector(mode='numeric',length=step_max)\n",
    "    for (i in 1:step_max){\n",
    "        prob=transition_matrix[v,]\n",
    "        v=sample(1:vcount(g),1,prob=prob)\n",
    "        #redefine start node\n",
    "        end_list[i]=v\n",
    "    }\n",
    "    return (end_list)\n",
    "}\n",
    "\n"
   ]
  },
  {
   "cell_type": "code",
   "execution_count": 36,
   "metadata": {},
   "outputs": [],
   "source": [
    "#extract degree of nodes\n",
    "degree=degree(g_combine)\n",
    "#measure the probability that the walker visits each node\n",
    "transition_matrix=transition_mat(g_combine)\n",
    "iteration=1000\n",
    "step_max=100\n",
    "page_bank=vector(mode='numeric',length=vcount(g_combine))\n",
    "for (i in 1:iteration){\n",
    "    #randomly choose a start node\n",
    "    start_node=sample(1:vcount(g_combine),1)\n",
    "    #process random walk function and save end point\n",
    "    end_list=random_walk(g_combine,step_max,start_node,transition_matrix)\n",
    "    #count of the visitation of node + 1 \n",
    "        for (i in end_list){\n",
    "    page_bank[i]=page_bank[i]+1\n",
    "            }\n",
    "    \n",
    "}\n"
   ]
  },
  {
   "cell_type": "code",
   "execution_count": 37,
   "metadata": {},
   "outputs": [
    {
     "name": "stdout",
     "output_type": "stream",
     "text": [
      "[1] 1\n",
      "\n",
      "Call:\n",
      "lm(formula = page_bank_prob ~ degree)\n",
      "\n",
      "Coefficients:\n",
      "(Intercept)       degree  \n",
      " -0.0017249    0.0001707  \n",
      "\n"
     ]
    },
    {
     "data": {
      "text/html": [
       "0.925161755665998"
      ],
      "text/latex": [
       "0.925161755665998"
      ],
      "text/markdown": [
       "0.925161755665998"
      ],
      "text/plain": [
       "[1] 0.9251618"
      ]
     },
     "metadata": {},
     "output_type": "display_data"
    },
    {
     "data": {
      "image/png": "[encoded data removed]",
      "text/plain": [
       "plot without title"
      ]
     },
     "metadata": {
      "image/png": {
       "height": 420,
       "width": 420
      },
      "text/plain": {
       "height": 420,
       "width": 420
      }
     },
     "output_type": "display_data"
    }
   ],
   "source": [
    "page_bank_prob=page_bank/(iteration*step_max)\n",
    "print(sum(page_bank_prob))\n",
    "#Fit a linear model\n",
    "model=lm(page_bank_prob~degree)\n",
    "plot(degree,page_bank_prob,abline(model))\n",
    "print(model)\n",
    "cor(degree,page_bank_prob,method=c('pearson'))"
   ]
  },
  {
   "cell_type": "markdown",
   "metadata": {},
   "source": [
    "# Question 3.b\n",
    "In all previous questions, we didn’t have any teleportation. Now, we use a teleportation probability of α = 0.15. By performing random walks on the network created in 3(a), measure the probability that the walker visits each node. Is this probability related to the degree of the node"
   ]
  },
  {
   "cell_type": "code",
   "execution_count": 38,
   "metadata": {},
   "outputs": [],
   "source": [
    "#define helper function to do random walk task\n",
    "random_walk_tele=function(g,step_max,start_node,transition_matrix=NULL,tele_prob=NULL){\n",
    "    if (is.null(transition_matrix)){\n",
    "        transition_matrix=transition_mat(g)\n",
    "    }\n",
    "    if (is.null(tele_prob)){\n",
    "        tele_prob=rep(1/vcount(g),vcount(g))\n",
    "    }\n",
    "    v=start_node\n",
    "    end_list=vector(mode='numeric',length=step_max)\n",
    "    for (i in 1:step_max){\n",
    "        prob=transition_matrix[v,]\n",
    "        v_org=sample(1:vcount(g),1,prob=prob)\n",
    "        v_tele=sample(1:vcount(g),1,prob=tele_prob)\n",
    "        seed=sample(1:100,1)\n",
    "        if(seed<=15 || degree(g,v,mode='out')==0){\n",
    "            v=v_tele\n",
    "        }else{\n",
    "            v=v_org\n",
    "        }\n",
    "        end_list[i]=v\n",
    "    }\n",
    "    return (end_list)\n",
    "}"
   ]
  },
  {
   "cell_type": "code",
   "execution_count": 40,
   "metadata": {},
   "outputs": [],
   "source": [
    "#extract degree of nodes\n",
    "degree=degree(g_combine)\n",
    "#measure the probability that the walker visits each node\n",
    "transition_matrix=transition_mat(g_combine)\n",
    "iteration=1000\n",
    "step_max=100\n",
    "page_bank=vector(mode='numeric',length=vcount(g_combine))\n",
    "for (i in 1:iteration){\n",
    "    #randomly choose a start node\n",
    "    start_node=sample(1:vcount(g_combine),1)\n",
    "    #process random walk function and save end point\n",
    "    end_list=random_walk_tele(g_combine,step_max,start_node,transition_matrix)\n",
    "    #count of the visitation of node + 1 \n",
    "            for (i in end_list){\n",
    "    page_bank[i]=page_bank[i]+1\n",
    "            }\n",
    "    \n",
    "}\n"
   ]
  },
  {
   "cell_type": "code",
   "execution_count": 42,
   "metadata": {},
   "outputs": [
    {
     "name": "stdout",
     "output_type": "stream",
     "text": [
      "[1] 1\n",
      "\n",
      "Call:\n",
      "lm(formula = page_bank_prob ~ degree)\n",
      "\n",
      "Coefficients:\n",
      "(Intercept)       degree  \n",
      " -0.0012195    0.0001391  \n",
      "\n"
     ]
    },
    {
     "data": {
      "text/html": [
       "0.945216290676105"
      ],
      "text/latex": [
       "0.945216290676105"
      ],
      "text/markdown": [
       "0.945216290676105"
      ],
      "text/plain": [
       "[1] 0.9452163"
      ]
     },
     "metadata": {},
     "output_type": "display_data"
    },
    {
     "data": {
      "image/png": "[encoded data removed]",
      "text/plain": [
       "plot without title"
      ]
     },
     "metadata": {
      "image/png": {
       "height": 420,
       "width": 420
      },
      "text/plain": {
       "height": 420,
       "width": 420
      }
     },
     "output_type": "display_data"
    }
   ],
   "source": [
    "page_bank_prob=page_bank/(iteration*step_max)\n",
    "#Fit a linear model\n",
    "print(sum(page_bank_prob))\n",
    "model=lm(page_bank_prob~degree)\n",
    "plot(degree,page_bank_prob,abline(model))\n",
    "print(model)\n",
    "cor(degree,page_bank_prob,method=c('pearson'))"
   ]
  }
 ],
 "metadata": {
  "kernelspec": {
   "display_name": "R",
   "language": "R",
   "name": "ir"
  },
  "language_info": {
   "codemirror_mode": "r",
   "file_extension": ".r",
   "mimetype": "text/x-r-source",
   "name": "R",
   "pygments_lexer": "r",
   "version": "3.6.3"
  }
 },
 "nbformat": 4,
 "nbformat_minor": 4
}
