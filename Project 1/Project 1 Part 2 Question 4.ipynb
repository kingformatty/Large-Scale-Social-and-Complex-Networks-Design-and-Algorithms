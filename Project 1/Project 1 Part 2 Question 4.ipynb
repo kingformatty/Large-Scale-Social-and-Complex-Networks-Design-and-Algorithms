{
 "cells": [
  {
   "cell_type": "markdown",
   "metadata": {},
   "source": [
    "# Personalized PageRank While the use of PageRank has proven very eﬀective, the web’s rapid growth in size and diversity drives an increasing demand for greater ﬂexibility in ranking. Ideally, each user should be able to deﬁne their own notion of importance for each individual query."
   ]
  },
  {
   "cell_type": "markdown",
   "metadata": {},
   "source": [
    "# Question 4.a\n",
    " Suppose you have your own notion of importance. Your interest in a node is proportional to the node’s PageRank, because you totally rely upon Google to decide which website to visit (assume that these nodes represent websites). Again, use random walk on network generated in question 3 to simulate this personalized PageRank. Here the teleportation probability to each node is proportional to its PageRank (as opposed to the regular PageRank, where at teleportation, the chance of visiting all nodes are the same and equal to 1 N ). Again, let the teleportation probability be equal to α = 0.15. Compare the results with 3(a). "
   ]
  },
  {
   "cell_type": "code",
   "execution_count": 7,
   "metadata": {},
   "outputs": [],
   "source": [
    "library('igraph')\n",
    "library('Matrix')\n",
    "library('pracma')"
   ]
  },
  {
   "cell_type": "code",
   "execution_count": 8,
   "metadata": {},
   "outputs": [],
   "source": [
    "#create directed random network with 1000 nodes using preferential attachment model\n",
    "# with m=4\n",
    "n=1000\n",
    "g=barabasi.game(n=n,m=4,directed=TRUE)\n",
    "g_org=barabasi.game(n=n,m=4, directed=TRUE)\n",
    "#generate a index list of all nodes\n",
    "vertice_list=seq(1,n)\n",
    "#generate a new index of a permutated vertices id, use sample to shuffle vertices id\n",
    "g_per=permute(g,sample(n))\n",
    "#obtain edge list of original graph, the returned object is a matrix\n",
    "#where each row has two element indicated the start node and end node\n",
    "edge_list=t(as_edgelist(g_per))\n",
    "#combine two graphs together according to edge information\n",
    "g_combine=add_edges(g_org,edge_list)"
   ]
  },
  {
   "cell_type": "code",
   "execution_count": 9,
   "metadata": {},
   "outputs": [],
   "source": [
    "#define helper function to extract transition matrix\n",
    "transition_mat=function(g){\n",
    "    vs = V(g)\n",
    "    n = vcount(g)\n",
    "    adj = as_adjacency_matrix(g)\n",
    "    adj[diag(rowSums(adj) == 0)] = 1  # handle if the user is using the function for networks with isolated nodes by creating self-edges\n",
    "    z = matrix(rowSums(adj, , 1))    \n",
    "    transition_matrix = adj / repmat(z, 1, n)  # normalize to get probabilities\n",
    "    \n",
    "    return(transition_matrix)\n",
    "\n",
    "}\n",
    "\n",
    "#define helper function to do random walk task\n",
    "random_walk_tele=function(g,step_max,start_node,transition_matrix=NULL,tele_prob=NULL){\n",
    "    if (is.null(transition_matrix)){\n",
    "        transition_matrix=transition_mat(g)\n",
    "    }\n",
    "    if (is.null(tele_prob)){\n",
    "        tele_prob=rep(1/vcount(g),vcount(g))\n",
    "    }\n",
    "    v=start_node\n",
    "    end_list=vector(mode='numeric',length=step_max)\n",
    "    for (i in 1:step_max){\n",
    "        prob=transition_matrix[v,]\n",
    "        v_org=sample(1:vcount(g),1,prob=prob)\n",
    "        v_tele=sample(1:vcount(g),1,prob=tele_prob)\n",
    "        seed=sample(1:100,1)\n",
    "        if(seed<=15 || degree(g,v,mode='out')==0){\n",
    "            v=v_tele\n",
    "        }else{\n",
    "            v=v_org\n",
    "        }\n",
    "        end_list[i]=v\n",
    "    }\n",
    "    return (end_list)\n",
    "}\n",
    "\n",
    "#define helper function to do random walk task\n",
    "random_walk=function(g,step_max,start_node,transition_matrix=NULL){\n",
    "    if (is.null(transition_matrix)){\n",
    "        transition_matrix=transition_mat(g)\n",
    "    }\n",
    "    v=start_node\n",
    "    end_list=vector(mode='numeric',length=step_max)\n",
    "    for (i in 1:step_max){\n",
    "        prob=transition_matrix[v,]\n",
    "        v=sample(1:vcount(g),1,prob=prob)\n",
    "        #redefine start node\n",
    "        end_list[i]=v\n",
    "    }\n",
    "    return (end_list)\n",
    "}\n"
   ]
  },
  {
   "cell_type": "code",
   "execution_count": 10,
   "metadata": {},
   "outputs": [],
   "source": [
    "#get page bank without tele\n",
    "transition_matrix=transition_mat(g_combine)\n",
    "iteration=1000\n",
    "step_max=100\n",
    "page_bank_raw=vector(mode='numeric',length=vcount(g_combine))\n",
    "for (i in 1:iteration){\n",
    "    #randomly choose a start node\n",
    "    start_node=sample(1:vcount(g_combine),1)\n",
    "    #process random walk function and save end point\n",
    "    end_list=random_walk(g_combine,step_max,start_node,transition_matrix)\n",
    "    #count of the visitation of node + 1 \n",
    "    for (i in end_list){\n",
    "    page_bank_raw[i]=page_bank_raw[i]+1\n",
    "            }\n",
    "    \n",
    "}"
   ]
  },
  {
   "cell_type": "code",
   "execution_count": 11,
   "metadata": {},
   "outputs": [],
   "source": [
    "#extract degree of nodes\n",
    "degree=degree(g_combine)\n",
    "#measure the probability that the walker visits each node\n",
    "transition_matrix=transition_mat(g_combine)\n",
    "iteration=1000\n",
    "step_max=100\n",
    "page_bank=vector(mode='numeric',length=vcount(g_combine))\n",
    "for (i in 1:iteration){\n",
    "    #randomly choose a start node\n",
    "    start_node=sample(1:vcount(g_combine),1)\n",
    "    #process random walk function and save end point\n",
    "    end_list=random_walk_tele(g_combine,step_max,start_node,transition_matrix,page_bank_raw)\n",
    "    #count of the visitation of node + 1 \n",
    "    for (i in end_list){\n",
    "    page_bank[i]=page_bank[i]+1\n",
    "            }\n",
    "    \n",
    "}\n"
   ]
  },
  {
   "cell_type": "code",
   "execution_count": 12,
   "metadata": {},
   "outputs": [
    {
     "name": "stdout",
     "output_type": "stream",
     "text": [
      "\n",
      "Call:\n",
      "lm(formula = page_bank_prob ~ degree)\n",
      "\n",
      "Coefficients:\n",
      "(Intercept)       degree  \n",
      "  -0.001681     0.000168  \n",
      "\n"
     ]
    },
    {
     "data": {
      "text/html": [
       "0.892105848423203"
      ],
      "text/latex": [
       "0.892105848423203"
      ],
      "text/markdown": [
       "0.892105848423203"
      ],
      "text/plain": [
       "[1] 0.8921058"
      ]
     },
     "metadata": {},
     "output_type": "display_data"
    },
    {
     "data": {
      "image/png": "[encoded data removed]",
      "text/plain": [
       "plot without title"
      ]
     },
     "metadata": {
      "image/png": {
       "height": 420,
       "width": 420
      },
      "text/plain": {
       "height": 420,
       "width": 420
      }
     },
     "output_type": "display_data"
    }
   ],
   "source": [
    "page_bank_prob=page_bank/(iteration*step_max)\n",
    "#Fit a linear model\n",
    "model=lm(page_bank_prob~degree)\n",
    "plot(degree,page_bank_prob,abline(model))\n",
    "print(model)\n",
    "cor(degree,page_bank_prob,method=c('pearson'))"
   ]
  },
  {
   "cell_type": "markdown",
   "metadata": {},
   "source": [
    "# Question 4.b\n",
    "Find two nodes in the network with median PageRanks. Repeat part 4(a) if teleportations land only on those two nodes (with probabilities 1/2, 1/2). How are the PageRank values aﬀected?"
   ]
  },
  {
   "cell_type": "code",
   "execution_count": 13,
   "metadata": {},
   "outputs": [],
   "source": [
    "#extract index with increasing degree\n",
    "index=sort(page_bank_raw,index.return=T)[2]$ix\n",
    "#extract median degree nodes\n",
    "median1=index[iteration/2]\n",
    "median2=index[iteration/2+1]\n",
    "#generate empty teleportation vector\n",
    "prob_tele_med=rep(0,1000)\n",
    "#assign 0.5 to two median nodes\n",
    "prob_tele_med[median1]=1/2\n",
    "prob_tele_med[median2]=1/2\n",
    "\n"
   ]
  },
  {
   "cell_type": "code",
   "execution_count": 14,
   "metadata": {},
   "outputs": [],
   "source": [
    "#extract degree of nodes\n",
    "degree=degree(g_combine)\n",
    "#measure the probability that the walker visits each node\n",
    "transition_matrix=transition_mat(g_combine)\n",
    "iteration=1000\n",
    "step_max=100\n",
    "#define new pagebank\n",
    "page_bank_4b=vector(mode='numeric',length=vcount(g_combine))\n",
    "for (i in 1:iteration){\n",
    "    #randomly choose a start node\n",
    "    start_node=sample(1:vcount(g_combine),1)\n",
    "    #process random walk function and save end point\n",
    "    end_list=random_walk_tele(g_combine,step_max,start_node,transition_matrix,prob_tele_med\n",
    "                             \n",
    "                             )\n",
    "    #count of the visitation of node + 1 \n",
    "    for (i in end_list){\n",
    "    page_bank_4b[i]=page_bank_4b[i]+1\n",
    "            }\n",
    "    \n",
    "}"
   ]
  },
  {
   "cell_type": "code",
   "execution_count": 15,
   "metadata": {},
   "outputs": [
    {
     "name": "stdout",
     "output_type": "stream",
     "text": [
      "\n",
      "Call:\n",
      "lm(formula = page_bank_prob ~ degree)\n",
      "\n",
      "Coefficients:\n",
      "(Intercept)       degree  \n",
      "  -0.001666     0.000167  \n",
      "\n"
     ]
    },
    {
     "data": {
      "text/html": [
       "0.894930811635095"
      ],
      "text/latex": [
       "0.894930811635095"
      ],
      "text/markdown": [
       "0.894930811635095"
      ],
      "text/plain": [
       "[1] 0.8949308"
      ]
     },
     "metadata": {},
     "output_type": "display_data"
    },
    {
     "data": {
      "image/png": "[encoded data removed]",
      "text/plain": [
       "plot without title"
      ]
     },
     "metadata": {
      "image/png": {
       "height": 420,
       "width": 420
      },
      "text/plain": {
       "height": 420,
       "width": 420
      }
     },
     "output_type": "display_data"
    }
   ],
   "source": [
    "page_bank_prob=page_bank_raw/(iteration*step_max)\n",
    "#Fit a linear model\n",
    "model=lm(page_bank_prob~degree)\n",
    "plot(degree,page_bank_prob,abline(model))\n",
    "print(model)\n",
    "cor(degree,page_bank_prob,method=c('pearson'))"
   ]
  },
  {
   "cell_type": "code",
   "execution_count": 16,
   "metadata": {},
   "outputs": [
    {
     "name": "stdout",
     "output_type": "stream",
     "text": [
      "\n",
      "Call:\n",
      "lm(formula = page_bank_prob ~ degree)\n",
      "\n",
      "Coefficients:\n",
      "(Intercept)       degree  \n",
      " -0.0012224    0.0001392  \n",
      "\n"
     ]
    },
    {
     "data": {
      "text/html": [
       "0.699401019681453"
      ],
      "text/latex": [
       "0.699401019681453"
      ],
      "text/markdown": [
       "0.699401019681453"
      ],
      "text/plain": [
       "[1] 0.699401"
      ]
     },
     "metadata": {},
     "output_type": "display_data"
    },
    {
     "data": {
      "image/png": "[encoded data removed]",
      "text/plain": [
       "plot without title"
      ]
     },
     "metadata": {
      "image/png": {
       "height": 420,
       "width": 420
      },
      "text/plain": {
       "height": 420,
       "width": 420
      }
     },
     "output_type": "display_data"
    }
   ],
   "source": [
    "page_bank_prob=page_bank_4b/(iteration*step_max)\n",
    "#Fit a linear model\n",
    "model=lm(page_bank_prob~degree)\n",
    "plot(degree,page_bank_prob,abline(model))\n",
    "print(model)\n",
    "cor(degree,page_bank_prob,method=c('pearson'))"
   ]
  },
  {
   "cell_type": "markdown",
   "metadata": {},
   "source": [
    "# Question 4.c\n",
    "More or less, 4(b) is what happens in the real world, in that a user browsing the web only teleports to a set of trusted web pages. However, this is against the assumption of normal PageRank, where we assume that people’s interest in all nodes are the same. Can you take into account the eﬀect of this self-reinforcement and adjust the PageRank equation"
   ]
  },
  {
   "cell_type": "code",
   "execution_count": null,
   "metadata": {},
   "outputs": [],
   "source": []
  }
 ],
 "metadata": {
  "kernelspec": {
   "display_name": "R",
   "language": "R",
   "name": "ir"
  },
  "language_info": {
   "codemirror_mode": "r",
   "file_extension": ".r",
   "mimetype": "text/x-r-source",
   "name": "R",
   "pygments_lexer": "r",
   "version": "3.6.3"
  }
 },
 "nbformat": 4,
 "nbformat_minor": 4
}
