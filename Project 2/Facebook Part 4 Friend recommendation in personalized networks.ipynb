{
 "cells": [
  {
   "cell_type": "code",
   "execution_count": 1,
   "metadata": {
    "scrolled": true
   },
   "outputs": [
    {
     "name": "stderr",
     "output_type": "stream",
     "text": [
      "\n",
      "Attaching package: 'igraph'\n",
      "\n",
      "\n",
      "The following objects are masked from 'package:stats':\n",
      "\n",
      "    decompose, spectrum\n",
      "\n",
      "\n",
      "The following object is masked from 'package:base':\n",
      "\n",
      "    union\n",
      "\n",
      "\n"
     ]
    }
   ],
   "source": [
    "library('igraph')\n",
    "fb_net=read_graph('facebook_combined.txt',format='ncol',directed=FALSE)"
   ]
  },
  {
   "cell_type": "markdown",
   "metadata": {},
   "source": [
    "4.3 Creating the list of users"
   ]
  },
  {
   "cell_type": "markdown",
   "metadata": {},
   "source": [
    "# QUESTION 16: What is |Nr| , i.e. the length of the list Nr?"
   ]
  },
  {
   "cell_type": "code",
   "execution_count": 2,
   "metadata": {},
   "outputs": [],
   "source": [
    "net_415=make_ego_graph(fb_net,nodes='414')\n",
    "degree_list=degree(net_415[[1]])\n",
    "net_415=net_415[[1]]"
   ]
  },
  {
   "cell_type": "code",
   "execution_count": 3,
   "metadata": {},
   "outputs": [
    {
     "name": "stdout",
     "output_type": "stream",
     "text": [
      "The number of vertex with degree as 24 is  11"
     ]
    }
   ],
   "source": [
    "Nr=which(degree_list==24)\n",
    "cat('The number of vertex with degree as 24 is ',length(Nr))"
   ]
  },
  {
   "cell_type": "markdown",
   "metadata": {},
   "source": [
    "# QUESTION 17: Compute the average accuracy of the friend recommendation algorithm that uses: Based on the average accuracy values, which friend recommendation algorithm is the best?\n",
    "Common Neighbors Measure\n",
    "Jaccard Measure\n",
    "Adamic Adar Measure\n"
   ]
  },
  {
   "cell_type": "code",
   "execution_count": 16,
   "metadata": {},
   "outputs": [
    {
     "name": "stdout",
     "output_type": "stream",
     "text": [
      "The accuracy for common neighbors measure is  0.8515365"
     ]
    }
   ],
   "source": [
    "#common neighbors measure\n",
    "acc_mean_sub=c()\n",
    "for (node in Nr){\n",
    "    acc_sub=c()\n",
    "    for (iteration in 1:10){\n",
    "        #extract neighbor list of node i\n",
    "        neighbor_list=neighbors(net_415,node)\n",
    "        #define empty discarded neighbors\n",
    "        R=c()\n",
    "        for (neighbor in neighbor_list){\n",
    "            seed=runif(1,0,1)\n",
    "            if(seed<=0.25){\n",
    "                net_415_lack=delete_edges(net_415,edge(node,neighbor))\n",
    "                R=c(R,neighbor)\n",
    "            }\n",
    "            \n",
    "        }\n",
    "        #extract remaining neighbors which are in neighbor_list, but not in R\n",
    "        neighbor_remain=setdiff(neighbor_list,R)\n",
    "        #append node in Nr\n",
    "        neighbor_remain=c(neighbor_remain,node)\n",
    "        #define potential friends list\n",
    "        stranger_list=setdiff(V(net_415_lack),neighbor_remain)\n",
    "        num=c()\n",
    "        for (stranger in stranger_list){\n",
    "            neighbor_stranger=neighbors(net_415_lack,stranger)\n",
    "            common_neighbor=intersect(neighbor_stranger,neighbor_remain)\n",
    "            num=c(num,length(common_neighbor))\n",
    "        }\n",
    "        stranger_sort_id=sort(num,decreasing=TRUE,index.return=TRUE)$ix\n",
    "        P=stranger_list[stranger_sort_id[1:length(R)]]\n",
    "        acc_sub=c(acc_sub,(length(intersect(R,P))/length(R)))\n",
    "    }\n",
    "    acc_mean_sub=c(acc_mean_sub,mean(acc_sub))\n",
    "}\n",
    "acc_mean=mean(acc_mean_sub)\n",
    "cat('The accuracy for common neighbors measure is ',acc_mean)"
   ]
  },
  {
   "cell_type": "code",
   "execution_count": 17,
   "metadata": {},
   "outputs": [
    {
     "name": "stdout",
     "output_type": "stream",
     "text": [
      "The accuracy for Jaccard measure is  0.8205808"
     ]
    }
   ],
   "source": [
    "#Jaccard neighbors measure\n",
    "acc_mean_sub=c()\n",
    "for (node in Nr){\n",
    "    acc_sub=c()\n",
    "    for (iteration in 1:10){\n",
    "        #extract neighbor list of node i\n",
    "        neighbor_list=neighbors(net_415,node)\n",
    "        #define empty discarded neighbors\n",
    "        R=c()\n",
    "        for (neighbor in neighbor_list){\n",
    "            seed=runif(1,0,1)\n",
    "            if(seed<=0.25){\n",
    "                net_415_lack=delete_edges(net_415,edge(node,neighbor))\n",
    "                R=c(R,neighbor)\n",
    "            }\n",
    "            \n",
    "        }\n",
    "        #extract remaining neighbors which are in neighbor_list, but not in R\n",
    "        neighbor_remain=setdiff(neighbor_list,R)\n",
    "        #append node in Nr\n",
    "        neighbor_remain=c(neighbor_remain,node)\n",
    "        #define potential friends list\n",
    "        stranger_list=setdiff(V(net_415_lack),neighbor_remain)\n",
    "        num=c()\n",
    "        for (stranger in stranger_list){\n",
    "            neighbor_stranger=neighbors(net_415_lack,stranger)\n",
    "            common=intersect(neighbor_stranger,neighbor_remain)\n",
    "            un=union(neighbor_stranger$name,neighbor_remain)\n",
    "            num=c(num,length(common)/length(un))\n",
    "        }\n",
    "        stranger_sort_id=sort(num,decreasing=TRUE,index.return=TRUE)$ix\n",
    "        P=stranger_list[stranger_sort_id[1:length(R)]]\n",
    "        acc_sub=c(acc_sub,(length(intersect(R,P))/length(R)))\n",
    "    }\n",
    "    acc_mean_sub=c(acc_mean_sub,mean(acc_sub))\n",
    "}\n",
    "acc_mean=mean(acc_mean_sub)\n",
    "cat('The accuracy for Jaccard measure is ',acc_mean)"
   ]
  },
  {
   "cell_type": "code",
   "execution_count": 18,
   "metadata": {},
   "outputs": [
    {
     "name": "stdout",
     "output_type": "stream",
     "text": [
      "The accuracy for Adamic Adar measure is  0.8624639"
     ]
    }
   ],
   "source": [
    "#Adamic Adar\n",
    "acc_mean_sub=c()\n",
    "for (node in Nr){\n",
    "    acc_sub=c()\n",
    "    for (iteration in 1:10){\n",
    "        #extract neighbor list of node i\n",
    "        neighbor_list=neighbors(net_415,node)\n",
    "        #define empty discarded neighbors\n",
    "        R=c()\n",
    "        for (neighbor in neighbor_list){\n",
    "            seed=runif(1,0,1)\n",
    "            if(seed<=0.25){\n",
    "                net_415_lack=delete_edges(net_415,edge(node,neighbor))\n",
    "                R=c(R,neighbor)\n",
    "            }\n",
    "            \n",
    "        }\n",
    "        #extract remaining neighbors which are in neighbor_list, but not in R\n",
    "        neighbor_remain=setdiff(neighbor_list,R)\n",
    "        #append node in Nr\n",
    "        neighbor_remain=c(neighbor_remain,node)\n",
    "        #define potential friends list\n",
    "        stranger_list=setdiff(V(net_415_lack),neighbor_remain)\n",
    "        num=c()\n",
    "        for (stranger in stranger_list){\n",
    "            neighbor_stranger=neighbors(net_415_lack,stranger)\n",
    "            common=intersect(neighbor_stranger,neighbor_remain)\n",
    "            ada=0\n",
    "            for (k in common){\n",
    "                ada=ada+(1/log(length(neighbors(net_415_lack,k))))\n",
    "                \n",
    "            }\n",
    "            num=c(num,ada)\n",
    "        }\n",
    "        stranger_sort_id=sort(num,decreasing=TRUE,index.return=TRUE)$ix\n",
    "        P=stranger_list[stranger_sort_id[1:length(R)]]\n",
    "        acc_sub=c(acc_sub,(length(intersect(R,P))/length(R)))\n",
    "    }\n",
    "    acc_mean_sub=c(acc_mean_sub,mean(acc_sub))\n",
    "}\n",
    "acc_mean=mean(acc_mean_sub)\n",
    "cat('The accuracy for Adamic Adar measure is ',acc_mean)"
   ]
  },
  {
   "cell_type": "code",
   "execution_count": null,
   "metadata": {},
   "outputs": [],
   "source": []
  }
 ],
 "metadata": {
  "kernelspec": {
   "display_name": "R",
   "language": "R",
   "name": "ir"
  },
  "language_info": {
   "codemirror_mode": "r",
   "file_extension": ".r",
   "mimetype": "text/x-r-source",
   "name": "R",
   "pygments_lexer": "r",
   "version": "3.6.3"
  }
 },
 "nbformat": 4,
 "nbformat_minor": 4
}
