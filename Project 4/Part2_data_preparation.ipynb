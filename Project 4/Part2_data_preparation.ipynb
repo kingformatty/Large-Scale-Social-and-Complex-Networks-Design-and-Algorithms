{
 "cells": [
  {
   "cell_type": "code",
   "execution_count": 1,
   "metadata": {},
   "outputs": [],
   "source": [
    "import numpy as np\n",
    "import pandas as pd"
   ]
  },
  {
   "cell_type": "code",
   "execution_count": 4,
   "metadata": {},
   "outputs": [],
   "source": [
    "#data preparation\n",
    "g=pd.read_csv('los_angeles-censustracts-2019-4-All-MonthlyAggregate.csv')\n"
   ]
  },
  {
   "cell_type": "code",
   "execution_count": 7,
   "metadata": {},
   "outputs": [
    {
     "name": "stdout",
     "output_type": "stream",
     "text": [
      "Index(['sourceid', 'dstid', 'month', 'mean_travel_time',\n",
      "       'standard_deviation_travel_time', 'geometric_mean_travel_time',\n",
      "       'geometric_standard_deviation_travel_time'],\n",
      "      dtype='object')\n"
     ]
    }
   ],
   "source": [
    "print(g.columns)"
   ]
  },
  {
   "cell_type": "code",
   "execution_count": 9,
   "metadata": {},
   "outputs": [],
   "source": [
    "#drop unnecessary attributes\n",
    "g=g.drop(['standard_deviation_travel_time','geometric_mean_travel_time','geometric_standard_deviation_travel_time'],axis=1)\n",
    "g=g.drop(g[g.month!=12].index)\n",
    "dec_data=g.drop(['month'],axis=1)"
   ]
  },
  {
   "cell_type": "code",
   "execution_count": 10,
   "metadata": {},
   "outputs": [
    {
     "name": "stdout",
     "output_type": "stream",
     "text": [
      "         sourceid  dstid  mean_travel_time\n",
      "2             758    972            953.55\n",
      "5            1197   2006           1213.18\n",
      "6            2652    620            828.92\n",
      "7            2427   2693           1742.80\n",
      "8            2653    610            699.03\n",
      "10            408   1508            648.42\n",
      "11            757    982           1250.79\n",
      "14           1562   2337           1780.65\n",
      "15           1273   1246            627.75\n",
      "16            767    882            932.80\n",
      "17            351   2078           2062.97\n",
      "24           1620   1757           2563.37\n",
      "29           1167   2306           1906.58\n",
      "31           1693   1027           1086.16\n",
      "37            436   1228           1208.05\n",
      "39           1271   1266            229.29\n",
      "40            779    762            716.71\n",
      "41           1585   2107           1789.27\n",
      "46            348   2108           2013.51\n",
      "48           1252   1456           1301.92\n",
      "49           1600   1957            968.74\n",
      "51            428   1308           1674.81\n",
      "53           1553   2427           1454.65\n",
      "54           1257   1406           1420.52\n",
      "56            325   2338           1838.39\n",
      "58            414   2054           1035.47\n",
      "59            407   2124           1941.64\n",
      "60            409   2104           2698.44\n",
      "61            412   2074           2620.66\n",
      "62            509   1104           2026.26\n",
      "...           ...    ...               ...\n",
      "5143965      1288     19           1511.38\n",
      "5143966      1309   1540           1317.12\n",
      "5143969      1131   1847           1484.74\n",
      "5143971      1314   1490           2112.63\n",
      "5143976      1175   1407           1344.22\n",
      "5143979      1338   1250           1463.40\n",
      "5143986      1307   1560           1491.38\n",
      "5143989       891   1238           2065.29\n",
      "5143990       883   1318           2033.75\n",
      "5143992       881   1338           2065.61\n",
      "5143994       820   1948           2880.96\n",
      "5144000       882   1328           1858.82\n",
      "5144003      1349   1140           1262.85\n",
      "5144014       860   1548           2066.39\n",
      "5144017       893   1218           1593.87\n",
      "5144018      1318   1450           1433.34\n",
      "5144019       894   1208           1588.98\n",
      "5144022       863   1518           1892.44\n",
      "5144023      1304   1590           1316.09\n",
      "5144024       892   1228           2142.89\n",
      "5144033       852   1628           2536.59\n",
      "5144034      1327   1360           1492.95\n",
      "5144037       871   1438           3174.06\n",
      "5144052      1175    363           1187.00\n",
      "5144053      1142    693           1959.37\n",
      "5144054      1122    893           1167.77\n",
      "5144056      1169    423           1328.88\n",
      "5144057      1116    953           1336.86\n",
      "5144059      1167    443           1467.28\n",
      "5144061      1127    843           1226.04\n",
      "\n",
      "[1692450 rows x 3 columns]\n"
     ]
    }
   ],
   "source": [
    "#graph table visualization\n",
    "#only sourceid, destination id, and mean_travel_time are left as weights in graphp\n",
    "print(dec_data)"
   ]
  },
  {
   "cell_type": "code",
   "execution_count": 12,
   "metadata": {},
   "outputs": [],
   "source": [
    "#node and edge extraction\n",
    "dec_data_arr=np.array(dec_data)\n",
    "edges={}\n",
    "\n",
    "for i in range(len(dec_data_arr)):\n",
    "    line=dec_data_arr[i,:]\n",
    "    location_pair=tuple(np.sort(line[0:2]))\n",
    "    if location_pair in edges:\n",
    "        edges[location_pair].append(line[[2]])\n",
    "    else:\n",
    "        edges[location_pair]=[line[2]]"
   ]
  },
  {
   "cell_type": "code",
   "execution_count": 13,
   "metadata": {},
   "outputs": [],
   "source": [
    "#save graph information in txt file\n",
    "with open('december_data_2.txt','w') as f:\n",
    "    for location_pair in edges:\n",
    "        string = '{} {} {:.2f}\\n'.format(int(location_pair[0]),int(location_pair[1]),float(np.mean(edges[location_pair])))\n",
    "        f.write(string)"
   ]
  },
  {
   "cell_type": "code",
   "execution_count": null,
   "metadata": {},
   "outputs": [],
   "source": []
  }
 ],
 "metadata": {
  "kernelspec": {
   "display_name": "Python 3",
   "language": "python",
   "name": "python3"
  },
  "language_info": {
   "codemirror_mode": {
    "name": "ipython",
    "version": 3
   },
   "file_extension": ".py",
   "mimetype": "text/x-python",
   "name": "python",
   "nbconvert_exporter": "python",
   "pygments_lexer": "ipython3",
   "version": "3.6.4"
  }
 },
 "nbformat": 4,
 "nbformat_minor": 2
}
