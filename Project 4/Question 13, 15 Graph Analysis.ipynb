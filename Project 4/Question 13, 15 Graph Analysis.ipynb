{
 "cells": [
  {
   "cell_type": "code",
   "execution_count": 6,
   "metadata": {
    "scrolled": true
   },
   "outputs": [],
   "source": [
    "library('igraph')\n"
   ]
  },
  {
   "cell_type": "markdown",
   "metadata": {},
   "source": [
    "Question 13"
   ]
  },
  {
   "cell_type": "code",
   "execution_count": 23,
   "metadata": {},
   "outputs": [
    {
     "name": "stdout",
     "output_type": "stream",
     "text": [
      "[1] 11074.13\n",
      "[1] 4\n",
      "[1] 7782\n"
     ]
    }
   ],
   "source": [
    "tri_g12=read_graph('tri_g12.txt',format='ncol',directed=FALSE)\n",
    "flow=max_flow(tri_g12,'1523','672',capacity=as.vector(edge_attr(tri_g12)$weight))\n",
    "print(flow$value)\n",
    "print(edge_disjoint_paths(tri_g12,'1523','672'))\n",
    "print(length(E(tri_g12)))"
   ]
  },
  {
   "cell_type": "markdown",
   "metadata": {},
   "source": [
    "Question 15"
   ]
  },
  {
   "cell_type": "code",
   "execution_count": 24,
   "metadata": {},
   "outputs": [
    {
     "name": "stdout",
     "output_type": "stream",
     "text": [
      "[1] 11074.13\n",
      "[1] 4\n",
      "[1] 7739\n"
     ]
    }
   ],
   "source": [
    "tri_g15=read_graph('tri_g15.txt',format='ncol',directed=FALSE)\n",
    "flow=max_flow(tri_g15,'1523','672',capacity=as.vector(edge_attr(tri_g15)$weight))\n",
    "print(flow$value)\n",
    "print(edge_disjoint_paths(tri_g15,'1523','672'))\n",
    "print(length(E(tri_g15)))"
   ]
  },
  {
   "cell_type": "code",
   "execution_count": null,
   "metadata": {
    "collapsed": true
   },
   "outputs": [],
   "source": []
  }
 ],
 "metadata": {
  "kernelspec": {
   "display_name": "R",
   "language": "R",
   "name": "ir"
  },
  "language_info": {
   "codemirror_mode": "r",
   "file_extension": ".r",
   "mimetype": "text/x-r-source",
   "name": "R",
   "pygments_lexer": "r",
   "version": "3.6.3"
  }
 },
 "nbformat": 4,
 "nbformat_minor": 2
}
