{
 "cells": [
  {
   "cell_type": "code",
   "execution_count": 16,
   "metadata": {},
   "outputs": [],
   "source": [
    "import numpy as np"
   ]
  },
  {
   "cell_type": "code",
   "execution_count": 17,
   "metadata": {},
   "outputs": [],
   "source": [
    "# helper functions\n",
    "def get_r(closing_price):\n",
    "    rs = []\n",
    "    for i in range(1, len(closing_price)):\n",
    "        q = (closing_price[i] - closing_price[i-1])/closing_price[i-1]\n",
    "        r = np.log(1 + q)\n",
    "        rs.append(r)\n",
    "    return rs\n",
    "    \n",
    "def cor_ij(ri, rj):\n",
    "    inner_ij = np.mean(np.multiply(ri, rj))\n",
    "    inner_ii = np.mean(np.multiply(ri, ri))\n",
    "    inner_jj = np.mean(np.multiply(rj, rj))\n",
    "    \n",
    "    cor = (inner_ij - np.mean(ri) * np.mean(rj))/(np.sqrt((inner_ii-(np.mean(ri))**2)*(inner_jj - (np.mean(rj))**2)))\n",
    "    return cor\n",
    "    "
   ]
  },
  {
   "cell_type": "code",
   "execution_count": 18,
   "metadata": {},
   "outputs": [],
   "source": [
    "import os\n",
    "import pandas as pd\n",
    "\n",
    "dirs = os.path.abspath(\"finance_data/data\")\n",
    "file_to_r = {}\n",
    "\n",
    "for file in os.listdir(dirs):\n",
    "    if (file[-4:] != '.csv'):\n",
    "        continue\n",
    "    file_name = file[:-4]\n",
    "    file_path = dirs + '/' + file\n",
    "    df = pd.read_csv(file_path)\n",
    "    dates = df['Date']\n",
    "    closing_prices = df['Close']\n",
    "    rs = []\n",
    "    if len(closing_prices) != 765:\n",
    "        continue\n",
    "    rs = get_r(closing_prices)\n",
    "        \n",
    "    file_to_r[file_name] = rs"
   ]
  },
  {
   "cell_type": "code",
   "execution_count": 19,
   "metadata": {},
   "outputs": [
    {
     "name": "stdout",
     "output_type": "stream",
     "text": [
      "494\n"
     ]
    }
   ],
   "source": [
    "print(len(file_to_r))"
   ]
  },
  {
   "cell_type": "code",
   "execution_count": 22,
   "metadata": {
    "scrolled": false
   },
   "outputs": [],
   "source": [
    "file_out = open(r\"weight_day.txt\", \"w\")\n",
    "file_names = list(file_to_r.keys())\n",
    "\n",
    "for i in range(len(file_names)):\n",
    "    for j in range(i+1, len(file_names)):\n",
    "        r_i = np.array(file_to_r[file_names[i]])\n",
    "        r_j = np.array(file_to_r[file_names[j]])\n",
    "        ro_i_j = cor_ij(r_i, r_j)\n",
    "        w_i_j = np.sqrt(2*(1-ro_i_j))\n",
    "        if w_i_j != 0:\n",
    "            file_out.write('{} {} {}\\n'.format(file_names[i], file_names[j], w_i_j))\n",
    "\n",
    "file_out.close()"
   ]
  },
  {
   "cell_type": "code",
   "execution_count": 23,
   "metadata": {},
   "outputs": [],
   "source": [
    "dirs = os.path.abspath(\"finance_data/data\")\n",
    "file_to_r_week = {}\n",
    "\n",
    "for file in os.listdir(dirs):\n",
    "    if (file[-4:] != '.csv'):\n",
    "        continue\n",
    "    file_name = file[:-4]\n",
    "    file_path = dirs + '/' + file\n",
    "    df = pd.read_csv(file_path)\n",
    "    dates = df['Date']\n",
    "    closing_prices = df['Close']\n",
    "    rs = []\n",
    "    if len(closing_prices) != 765:\n",
    "        continue\n",
    "    for i in range(1, 765):\n",
    "        if pd.Timestamp(dates[i]).weekday() == 0:\n",
    "            q = (closing_prices[i] - closing_prices[i-1])/closing_prices[i-1]\n",
    "            r = np.log(1+q)\n",
    "            rs.append(r)\n",
    "        \n",
    "    file_to_r_week[file_name] = rs"
   ]
  },
  {
   "cell_type": "code",
   "execution_count": 24,
   "metadata": {},
   "outputs": [],
   "source": [
    "file_out = open(r\"weight_week.txt\", \"w\")\n",
    "file_names = list(file_to_r_week.keys())\n",
    "\n",
    "for i in range(len(file_names)):\n",
    "    for j in range(i+1, len(file_names)):\n",
    "        r_i = np.array(file_to_r_week[file_names[i]])\n",
    "        r_j = np.array(file_to_r_week[file_names[j]])\n",
    "        ro_i_j = cor_ij(r_i, r_j)\n",
    "        w_i_j = np.sqrt(2*(1-ro_i_j))\n",
    "        if w_i_j != 0:\n",
    "            file_out.write('{} {} {}\\n'.format(file_names[i], file_names[j], w_i_j))\n",
    "\n",
    "file_out.close()"
   ]
  },
  {
   "cell_type": "code",
   "execution_count": null,
   "metadata": {},
   "outputs": [],
   "source": []
  }
 ],
 "metadata": {
  "kernelspec": {
   "display_name": "Python 3",
   "language": "python",
   "name": "python3"
  },
  "language_info": {
   "codemirror_mode": {
    "name": "ipython",
    "version": 3
   },
   "file_extension": ".py",
   "mimetype": "text/x-python",
   "name": "python",
   "nbconvert_exporter": "python",
   "pygments_lexer": "ipython3",
   "version": "3.6.4"
  }
 },
 "nbformat": 4,
 "nbformat_minor": 2
}
